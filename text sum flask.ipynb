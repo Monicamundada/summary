{
 "cells": [
  {
   "cell_type": "code",
   "execution_count": null,
   "metadata": {},
   "outputs": [
    {
     "name": "stdout",
     "output_type": "stream",
     "text": [
      " * Serving Flask app \"__main__\" (lazy loading)\n",
      " * Environment: production\n",
      "   WARNING: This is a development server. Do not use it in a production deployment.\n",
      "   Use a production WSGI server instead.\n",
      " * Debug mode: off\n"
     ]
    },
    {
     "name": "stderr",
     "output_type": "stream",
     "text": [
      " * Running on http://127.0.0.1:5000/ (Press CTRL+C to quit)\n",
      "127.0.0.1 - - [03/Oct/2020 11:47:07] \"\u001b[37mGET / HTTP/1.1\u001b[0m\" 200 -\n",
      "127.0.0.1 - - [03/Oct/2020 11:47:08] \"\u001b[33mGET /static/vendor/bootstrap/css/bootstrap.min.css HTTP/1.1\u001b[0m\" 404 -\n",
      "127.0.0.1 - - [03/Oct/2020 11:47:08] \"\u001b[33mGET /static/fonts/font-awesome-4.7.0/css/font-awesome.min.css HTTP/1.1\u001b[0m\" 404 -\n",
      "127.0.0.1 - - [03/Oct/2020 11:47:08] \"\u001b[33mGET /static/vendor/animate/animate.css HTTP/1.1\u001b[0m\" 404 -\n",
      "127.0.0.1 - - [03/Oct/2020 11:47:08] \"\u001b[33mGET /static/fonts/Linearicons-Free-v1.0.0/icon-font.min.css HTTP/1.1\u001b[0m\" 404 -\n",
      "127.0.0.1 - - [03/Oct/2020 11:47:08] \"\u001b[33mGET /static/vendor/css-hamburgers/hamburgers.min.css HTTP/1.1\u001b[0m\" 404 -\n",
      "127.0.0.1 - - [03/Oct/2020 11:47:08] \"\u001b[33mGET /static/vendor/select2/select2.min.css HTTP/1.1\u001b[0m\" 404 -\n",
      "127.0.0.1 - - [03/Oct/2020 11:47:08] \"\u001b[33mGET /static/css/util.css HTTP/1.1\u001b[0m\" 404 -\n",
      "127.0.0.1 - - [03/Oct/2020 11:47:08] \"\u001b[33mGET /static/vendor/jquery/jquery-3.2.1.min.js HTTP/1.1\u001b[0m\" 404 -\n",
      "127.0.0.1 - - [03/Oct/2020 11:47:08] \"\u001b[33mGET /static/vendor/bootstrap/js/popper.js HTTP/1.1\u001b[0m\" 404 -\n",
      "127.0.0.1 - - [03/Oct/2020 11:47:08] \"\u001b[33mGET /static/vendor/bootstrap/js/bootstrap.min.js HTTP/1.1\u001b[0m\" 404 -\n",
      "127.0.0.1 - - [03/Oct/2020 11:47:08] \"\u001b[33mGET /static/vendor/select2/select2.min.js HTTP/1.1\u001b[0m\" 404 -\n"
     ]
    },
    {
     "name": "stdout",
     "output_type": "stream",
     "text": [
      "Hvis I vil giftes i en kirke, skal I henvende jer til præsten i den kirke, hvor I vil giftes. I skal medbringe og aflevere kommunens prøvelsesattest.\r\n",
      "\r\n",
      "I kan blive gift i en bestemt kirke, når:\r\n",
      "\r\n",
      "en af jer er medlem af folkekirken, og kirken tilhører medlemmets sogn\r\n",
      "en af jer er medlem af folkekirken, og denne eller I begge har en særlig tilknytning til kirken, og derfor ønsker at blive viet netop der\r\n",
      "I har ikke automatisk ret til at blive gift i andre kirker end de to ovennævnte. I kan dog kontakte det enkelte sogn og spørge om lov til at blive viet i en tredje kirke.\n"
     ]
    },
    {
     "name": "stderr",
     "output_type": "stream",
     "text": [
      "/opt/anaconda3/lib/python3.7/site-packages/spacy/util.py:275: UserWarning: [W031] Model 'en_core_web_sm' (2.2.5) requires spaCy v2.2 and is incompatible with the current spaCy version (2.3.2). This may lead to unexpected results or runtime errors. To resolve this, download a newer compatible model or retrain your custom model with the current spaCy version. For more details and available updates, run: python -m spacy validate\n",
      "  warnings.warn(warn_msg)\n",
      "127.0.0.1 - - [03/Oct/2020 11:49:18] \"\u001b[37mPOST / HTTP/1.1\u001b[0m\" 200 -\n",
      "127.0.0.1 - - [03/Oct/2020 11:49:18] \"\u001b[33mGET /static/vendor/bootstrap/css/bootstrap.min.css HTTP/1.1\u001b[0m\" 404 -\n",
      "127.0.0.1 - - [03/Oct/2020 11:49:18] \"\u001b[33mGET /static/fonts/font-awesome-4.7.0/css/font-awesome.min.css HTTP/1.1\u001b[0m\" 404 -\n",
      "127.0.0.1 - - [03/Oct/2020 11:49:18] \"\u001b[33mGET /static/fonts/Linearicons-Free-v1.0.0/icon-font.min.css HTTP/1.1\u001b[0m\" 404 -\n",
      "127.0.0.1 - - [03/Oct/2020 11:49:18] \"\u001b[33mGET /static/vendor/animate/animate.css HTTP/1.1\u001b[0m\" 404 -\n",
      "127.0.0.1 - - [03/Oct/2020 11:49:18] \"\u001b[33mGET /static/vendor/css-hamburgers/hamburgers.min.css HTTP/1.1\u001b[0m\" 404 -\n",
      "127.0.0.1 - - [03/Oct/2020 11:49:18] \"\u001b[33mGET /static/vendor/select2/select2.min.css HTTP/1.1\u001b[0m\" 404 -\n",
      "127.0.0.1 - - [03/Oct/2020 11:49:18] \"\u001b[33mGET /static/css/util.css HTTP/1.1\u001b[0m\" 404 -\n",
      "127.0.0.1 - - [03/Oct/2020 11:49:18] \"\u001b[33mGET /static/vendor/jquery/jquery-3.2.1.min.js HTTP/1.1\u001b[0m\" 404 -\n",
      "127.0.0.1 - - [03/Oct/2020 11:49:18] \"\u001b[33mGET /static/vendor/bootstrap/js/popper.js HTTP/1.1\u001b[0m\" 404 -\n",
      "127.0.0.1 - - [03/Oct/2020 11:49:18] \"\u001b[33mGET /static/vendor/bootstrap/js/bootstrap.min.js HTTP/1.1\u001b[0m\" 404 -\n",
      "127.0.0.1 - - [03/Oct/2020 11:49:18] \"\u001b[33mGET /static/vendor/select2/select2.min.js HTTP/1.1\u001b[0m\" 404 -\n"
     ]
    },
    {
     "name": "stdout",
     "output_type": "stream",
     "text": [
      "579\n",
      "334\n"
     ]
    },
    {
     "name": "stderr",
     "output_type": "stream",
     "text": [
      "127.0.0.1 - - [03/Oct/2020 11:49:26] \"\u001b[37mGET / HTTP/1.1\u001b[0m\" 200 -\n"
     ]
    }
   ],
   "source": [
    "from flask import Flask\n",
    "from flask import request\n",
    "from flask import render_template\n",
    "import numpy as np\n",
    "from matplotlib import pyplot as plt\n",
    "import os\n",
    "import spacy\n",
    "from spacy.lang.en.stop_words import STOP_WORDS\n",
    "from string import punctuation\n",
    "\n",
    "app = Flask(__name__)\n",
    "\n",
    "@app.route('/')\n",
    "def my_form():\n",
    "    return render_template(\"index.html\")\n",
    "\n",
    "@app.route('/', methods=['GET','POST'])\n",
    "def my_form_post():\n",
    "    data = request.form['message']\n",
    "    \n",
    "    print(data)\n",
    "    \n",
    "    stopwords = list(STOP_WORDS)\n",
    "    \n",
    "    doc1=data\n",
    "    nlp =spacy.load('en_core_web_sm')\n",
    "    \n",
    "    docx = nlp(doc1)\n",
    "    \n",
    "    mytokens = [token.text for token in docx]\n",
    "    \n",
    "    word_freq={}\n",
    "    for word in docx:\n",
    "        if word.text not in stopwords:\n",
    "            if word.text not in word_freq.keys():\n",
    "                word_freq[word.text]=1;\n",
    "                \n",
    "            else:\n",
    "                word_freq[word.text]+=1;\n",
    "                \n",
    "    max_freq=max(word_freq.values())\n",
    "\n",
    "    for word in word_freq:\n",
    "        word_freq[word]=(word_freq[word]/max_freq)     \n",
    "        \n",
    "    sentence_list = [ sentence for sentence in docx.sents]\n",
    "    \n",
    "    [w.text.lower() for t in sentence_list for w in t ]\n",
    "    \n",
    "    \n",
    "    sentence_scores={}\n",
    "    for sentence in sentence_list:\n",
    "        for word in sentence:\n",
    "            if word.text in word_freq.keys():\n",
    "                if len(sentence.text.split(' ')) < 30:\n",
    "                    if sentence not in sentence_scores.keys():\n",
    "                        sentence_scores[sentence] = word_freq[word.text]\n",
    "                    else:\n",
    "                        sentence_scores[sentence] += word_freq[word.text]\n",
    "                        \n",
    "                        \n",
    "    from heapq import nlargest\n",
    "    \n",
    "    sum_sentences = nlargest(8, sentence_scores, key=sentence_scores.get)\n",
    "    \n",
    "    final_sentences = [ w.text for w in sum_sentences ] \n",
    "    \n",
    "    \n",
    "    summary = ' '.join(final_sentences)\n",
    "    \n",
    "    print(len(doc1))\n",
    "    print(len(summary))\n",
    "    return render_template('output.html', message = summary)\n",
    "\n",
    "if __name__ == '__main__':\n",
    "    app.run()"
   ]
  },
  {
   "cell_type": "code",
   "execution_count": null,
   "metadata": {},
   "outputs": [],
   "source": []
  }
 ],
 "metadata": {
  "kernelspec": {
   "display_name": "Python 3",
   "language": "python",
   "name": "python3"
  },
  "language_info": {
   "codemirror_mode": {
    "name": "ipython",
    "version": 3
   },
   "file_extension": ".py",
   "mimetype": "text/x-python",
   "name": "python",
   "nbconvert_exporter": "python",
   "pygments_lexer": "ipython3",
   "version": "3.7.4"
  }
 },
 "nbformat": 4,
 "nbformat_minor": 2
}
