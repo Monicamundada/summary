{
 "cells": [
  {
   "cell_type": "code",
   "execution_count": 1,
   "metadata": {},
   "outputs": [],
   "source": [
    "#Loading Packages-->\n",
    "import spacy"
   ]
  },
  {
   "cell_type": "code",
   "execution_count": 2,
   "metadata": {},
   "outputs": [],
   "source": [
    "# Text Preprocessing Packages-->\n",
    "from spacy.lang.en.stop_words import STOP_WORDS\n",
    "from string import punctuation"
   ]
  },
  {
   "cell_type": "code",
   "execution_count": 3,
   "metadata": {},
   "outputs": [],
   "source": [
    "# Build a List of Stopwords-->\n",
    "stopwords = list(STOP_WORDS)"
   ]
  },
  {
   "cell_type": "code",
   "execution_count": 4,
   "metadata": {},
   "outputs": [],
   "source": [
    "doc1=\"\"\"A salt seller used to carry the salt bag on his donkey to the market every day.\n",
    "\n",
    "On the way they had to cross a stream. One day the donkey suddenly tumbled down the stream and the salt bag also fell into the water. The salt dissolved in the water and hence the bag became very light to carry. The donkey was happy.\n",
    "\n",
    "Then the donkey started to play the same trick every day.\n",
    "\n",
    "The salt seller came to understand the trick and decided to teach a lesson to it. The next day he loaded a cotton bag on the donkey.\n",
    "\n",
    "Again it played the same trick hoping that the cotton bag would be still become lighter.\n",
    "\n",
    "But the dampened cotton became very heavy to carry and the donkey suffered. It learnt a lesson. It didn’t play the trick anymore after that day, and the seller was happy.\"\"\""
   ]
  },
  {
   "cell_type": "code",
   "execution_count": 5,
   "metadata": {},
   "outputs": [],
   "source": [
    "nlp =spacy.load('da_core_news_sm')"
   ]
  },
  {
   "cell_type": "code",
   "execution_count": 6,
   "metadata": {},
   "outputs": [],
   "source": [
    "#Building an NLP object-->\n",
    "docx = nlp(doc1)"
   ]
  },
  {
   "cell_type": "code",
   "execution_count": 7,
   "metadata": {},
   "outputs": [],
   "source": [
    "# Tokenization of Text\n",
    "mytokens = [token.text for token in docx]"
   ]
  },
  {
   "cell_type": "code",
   "execution_count": 8,
   "metadata": {},
   "outputs": [],
   "source": [
    "#For calculating the frequencies of each word that are not the stopwords-->\n",
    "word_freq={}\n",
    "for word in docx:\n",
    "        if word.text not in stopwords:\n",
    "            if word.text not in word_freq.keys():\n",
    "                word_freq[word.text]=1;\n",
    "                \n",
    "            else:\n",
    "                word_freq[word.text]+=1;"
   ]
  },
  {
   "cell_type": "code",
   "execution_count": 9,
   "metadata": {},
   "outputs": [
    {
     "data": {
      "text/plain": [
       "{'A': 1,\n",
       " 'salt': 5,\n",
       " 'seller': 3,\n",
       " 'carry': 3,\n",
       " 'bag': 5,\n",
       " 'donkey': 6,\n",
       " 'market': 1,\n",
       " 'day': 5,\n",
       " '.': 11,\n",
       " '\\n\\n': 5,\n",
       " 'On': 1,\n",
       " 'way': 1,\n",
       " 'cross': 1,\n",
       " 'stream': 2,\n",
       " 'One': 1,\n",
       " 'suddenly': 1,\n",
       " 'tumbled': 1,\n",
       " 'fell': 1,\n",
       " 'water': 2,\n",
       " 'The': 4,\n",
       " 'dissolved': 1,\n",
       " 'light': 1,\n",
       " 'happy': 2,\n",
       " 'Then': 1,\n",
       " 'started': 1,\n",
       " 'play': 2,\n",
       " 'trick': 4,\n",
       " 'came': 1,\n",
       " 'understand': 1,\n",
       " 'decided': 1,\n",
       " 'teach': 1,\n",
       " 'lesson': 2,\n",
       " 'it.': 1,\n",
       " 'loaded': 1,\n",
       " 'cotton': 3,\n",
       " 'Again': 1,\n",
       " 'played': 1,\n",
       " 'hoping': 1,\n",
       " 'lighter': 1,\n",
       " 'But': 1,\n",
       " 'dampened': 1,\n",
       " 'heavy': 1,\n",
       " 'suffered': 1,\n",
       " 'It': 2,\n",
       " 'learnt': 1,\n",
       " 'didn': 1,\n",
       " '’': 1,\n",
       " 't': 1,\n",
       " 'anymore': 1,\n",
       " ',': 1}"
      ]
     },
     "execution_count": 9,
     "metadata": {},
     "output_type": "execute_result"
    }
   ],
   "source": [
    "#Here are all the word frequencies-->\n",
    "word_freq"
   ]
  },
  {
   "cell_type": "code",
   "execution_count": 10,
   "metadata": {},
   "outputs": [],
   "source": [
    "max_freq=max(word_freq.values())\n",
    "\n",
    "for word in word_freq:\n",
    "    word_freq[word]=(word_freq[word]/max_freq)"
   ]
  },
  {
   "cell_type": "code",
   "execution_count": 11,
   "metadata": {},
   "outputs": [
    {
     "name": "stdout",
     "output_type": "stream",
     "text": [
      "{'A': 0.09090909090909091, 'salt': 0.45454545454545453, 'seller': 0.2727272727272727, 'carry': 0.2727272727272727, 'bag': 0.45454545454545453, 'donkey': 0.5454545454545454, 'market': 0.09090909090909091, 'day': 0.45454545454545453, '.': 1.0, '\\n\\n': 0.45454545454545453, 'On': 0.09090909090909091, 'way': 0.09090909090909091, 'cross': 0.09090909090909091, 'stream': 0.18181818181818182, 'One': 0.09090909090909091, 'suddenly': 0.09090909090909091, 'tumbled': 0.09090909090909091, 'fell': 0.09090909090909091, 'water': 0.18181818181818182, 'The': 0.36363636363636365, 'dissolved': 0.09090909090909091, 'light': 0.09090909090909091, 'happy': 0.18181818181818182, 'Then': 0.09090909090909091, 'started': 0.09090909090909091, 'play': 0.18181818181818182, 'trick': 0.36363636363636365, 'came': 0.09090909090909091, 'understand': 0.09090909090909091, 'decided': 0.09090909090909091, 'teach': 0.09090909090909091, 'lesson': 0.18181818181818182, 'it.': 0.09090909090909091, 'loaded': 0.09090909090909091, 'cotton': 0.2727272727272727, 'Again': 0.09090909090909091, 'played': 0.09090909090909091, 'hoping': 0.09090909090909091, 'lighter': 0.09090909090909091, 'But': 0.09090909090909091, 'dampened': 0.09090909090909091, 'heavy': 0.09090909090909091, 'suffered': 0.09090909090909091, 'It': 0.18181818181818182, 'learnt': 0.09090909090909091, 'didn': 0.09090909090909091, '’': 0.09090909090909091, 't': 0.09090909090909091, 'anymore': 0.09090909090909091, ',': 0.09090909090909091}\n"
     ]
    }
   ],
   "source": [
    "print(word_freq)"
   ]
  },
  {
   "cell_type": "code",
   "execution_count": 12,
   "metadata": {},
   "outputs": [],
   "source": [
    "# Sentence Tokens-->\n",
    "sentence_list = [ sentence for sentence in docx.sents]"
   ]
  },
  {
   "cell_type": "code",
   "execution_count": 13,
   "metadata": {},
   "outputs": [
    {
     "data": {
      "text/plain": [
       "['a',\n",
       " 'salt',\n",
       " 'seller',\n",
       " 'used',\n",
       " 'to',\n",
       " 'carry',\n",
       " 'the',\n",
       " 'salt',\n",
       " 'bag',\n",
       " 'on',\n",
       " 'his',\n",
       " 'donkey',\n",
       " 'to',\n",
       " 'the',\n",
       " 'market',\n",
       " 'every',\n",
       " 'day',\n",
       " '.',\n",
       " '\\n\\n',\n",
       " 'on',\n",
       " 'the',\n",
       " 'way',\n",
       " 'they',\n",
       " 'had',\n",
       " 'to',\n",
       " 'cross',\n",
       " 'a',\n",
       " 'stream',\n",
       " '.',\n",
       " 'one',\n",
       " 'day',\n",
       " 'the',\n",
       " 'donkey',\n",
       " 'suddenly',\n",
       " 'tumbled',\n",
       " 'down',\n",
       " 'the',\n",
       " 'stream',\n",
       " 'and',\n",
       " 'the',\n",
       " 'salt',\n",
       " 'bag',\n",
       " 'also',\n",
       " 'fell',\n",
       " 'into',\n",
       " 'the',\n",
       " 'water',\n",
       " '.',\n",
       " 'the',\n",
       " 'salt',\n",
       " 'dissolved',\n",
       " 'in',\n",
       " 'the',\n",
       " 'water',\n",
       " 'and',\n",
       " 'hence',\n",
       " 'the',\n",
       " 'bag',\n",
       " 'became',\n",
       " 'very',\n",
       " 'light',\n",
       " 'to',\n",
       " 'carry',\n",
       " '.',\n",
       " 'the',\n",
       " 'donkey',\n",
       " 'was',\n",
       " 'happy',\n",
       " '.',\n",
       " '\\n\\n',\n",
       " 'then',\n",
       " 'the',\n",
       " 'donkey',\n",
       " 'started',\n",
       " 'to',\n",
       " 'play',\n",
       " 'the',\n",
       " 'same',\n",
       " 'trick',\n",
       " 'every',\n",
       " 'day',\n",
       " '.',\n",
       " '\\n\\n',\n",
       " 'the',\n",
       " 'salt',\n",
       " 'seller',\n",
       " 'came',\n",
       " 'to',\n",
       " 'understand',\n",
       " 'the',\n",
       " 'trick',\n",
       " 'and',\n",
       " 'decided',\n",
       " 'to',\n",
       " 'teach',\n",
       " 'a',\n",
       " 'lesson',\n",
       " 'to',\n",
       " 'it.',\n",
       " 'the',\n",
       " 'next',\n",
       " 'day',\n",
       " 'he',\n",
       " 'loaded',\n",
       " 'a',\n",
       " 'cotton',\n",
       " 'bag',\n",
       " 'on',\n",
       " 'the',\n",
       " 'donkey',\n",
       " '.',\n",
       " '\\n\\n',\n",
       " 'again',\n",
       " 'it',\n",
       " 'played',\n",
       " 'the',\n",
       " 'same',\n",
       " 'trick',\n",
       " 'hoping',\n",
       " 'that',\n",
       " 'the',\n",
       " 'cotton',\n",
       " 'bag',\n",
       " 'would',\n",
       " 'be',\n",
       " 'still',\n",
       " 'become',\n",
       " 'lighter',\n",
       " '.',\n",
       " '\\n\\n',\n",
       " 'but',\n",
       " 'the',\n",
       " 'dampened',\n",
       " 'cotton',\n",
       " 'became',\n",
       " 'very',\n",
       " 'heavy',\n",
       " 'to',\n",
       " 'carry',\n",
       " 'and',\n",
       " 'the',\n",
       " 'donkey',\n",
       " 'suffered',\n",
       " '.',\n",
       " 'it',\n",
       " 'learnt',\n",
       " 'a',\n",
       " 'lesson',\n",
       " '.',\n",
       " 'it',\n",
       " 'didn',\n",
       " '’',\n",
       " 't',\n",
       " 'play',\n",
       " 'the',\n",
       " 'trick',\n",
       " 'anymore',\n",
       " 'after',\n",
       " 'that',\n",
       " 'day',\n",
       " ',',\n",
       " 'and',\n",
       " 'the',\n",
       " 'seller',\n",
       " 'was',\n",
       " 'happy',\n",
       " '.']"
      ]
     },
     "execution_count": 13,
     "metadata": {},
     "output_type": "execute_result"
    }
   ],
   "source": [
    "#Lowering all the text-->\n",
    "[w.text.lower() for t in sentence_list for w in t ]"
   ]
  },
  {
   "cell_type": "code",
   "execution_count": 14,
   "metadata": {},
   "outputs": [
    {
     "data": {
      "text/plain": [
       "[A salt seller used to carry the salt bag on his donkey to the market every day.\n",
       " ,\n",
       " On the way,\n",
       " they had to cross a stream.,\n",
       " One day the donkey suddenly tumbled down the stream and the salt bag also fell into the water.,\n",
       " The salt dissolved in the water and hence the bag became very light to carry.,\n",
       " The donkey was happy.\n",
       " ,\n",
       " Then the donkey started to play the same trick every day.\n",
       " ,\n",
       " The salt seller came to understand the trick and decided to teach a lesson,\n",
       " to it. The next day he loaded a cotton bag on the donkey.\n",
       " ,\n",
       " Again it played the same trick hoping that the cotton bag would be still become lighter.\n",
       " ,\n",
       " But the dampened cotton became very heavy to carry and the donkey suffered.,\n",
       " It learnt a lesson.,\n",
       " It didn’t play the trick anymore after that day, and the seller was happy.]"
      ]
     },
     "execution_count": 14,
     "metadata": {},
     "output_type": "execute_result"
    }
   ],
   "source": [
    "sentence_list"
   ]
  },
  {
   "cell_type": "code",
   "execution_count": 15,
   "metadata": {},
   "outputs": [],
   "source": [
    "#Calculating Sentence Scores-->\n",
    "sentence_scores={}\n",
    "for sentence in sentence_list:\n",
    "    for word in sentence:\n",
    "        if word.text in word_freq.keys():\n",
    "            if len(sentence.text.split(' ')) < 30:\n",
    "                if sentence not in sentence_scores.keys():\n",
    "                    sentence_scores[sentence] = word_freq[word.text]\n",
    "                else:\n",
    "                    sentence_scores[sentence] += word_freq[word.text]"
   ]
  },
  {
   "cell_type": "code",
   "execution_count": 16,
   "metadata": {},
   "outputs": [
    {
     "data": {
      "text/plain": [
       "{A salt seller used to carry the salt bag on his donkey to the market every day.\n",
       " : 4.545454545454545,\n",
       " On the way: 0.18181818181818182,\n",
       " they had to cross a stream.: 1.2727272727272727,\n",
       " One day the donkey suddenly tumbled down the stream and the salt bag also fell into the water.: 3.636363636363636,\n",
       " The salt dissolved in the water and hence the bag became very light to carry.: 2.909090909090909,\n",
       " The donkey was happy.\n",
       " : 2.5454545454545454,\n",
       " Then the donkey started to play the same trick every day.\n",
       " : 3.181818181818182,\n",
       " The salt seller came to understand the trick and decided to teach a lesson: 1.9999999999999998,\n",
       " to it. The next day he loaded a cotton bag on the donkey.\n",
       " : 3.727272727272727,\n",
       " Again it played the same trick hoping that the cotton bag would be still become lighter.\n",
       " : 2.9090909090909087,\n",
       " But the dampened cotton became very heavy to carry and the donkey suffered.: 2.454545454545454,\n",
       " It learnt a lesson.: 1.4545454545454546,\n",
       " It didn’t play the trick anymore after that day, and the seller was happy.: 3.090909090909091}"
      ]
     },
     "execution_count": 16,
     "metadata": {},
     "output_type": "execute_result"
    }
   ],
   "source": [
    "#Displaying All the Sentence Scores-->\n",
    "sentence_scores"
   ]
  },
  {
   "cell_type": "code",
   "execution_count": 17,
   "metadata": {},
   "outputs": [],
   "source": [
    "#Finding Top N sentences using heapq-->\n",
    "from heapq import nlargest"
   ]
  },
  {
   "cell_type": "code",
   "execution_count": 18,
   "metadata": {},
   "outputs": [],
   "source": [
    "sum_sentences = nlargest(10, sentence_scores, key=sentence_scores.get)"
   ]
  },
  {
   "cell_type": "code",
   "execution_count": 19,
   "metadata": {},
   "outputs": [
    {
     "data": {
      "text/plain": [
       "[A salt seller used to carry the salt bag on his donkey to the market every day.\n",
       " , to it. The next day he loaded a cotton bag on the donkey.\n",
       " , One day the donkey suddenly tumbled down the stream and the salt bag also fell into the water., Then the donkey started to play the same trick every day.\n",
       " , It didn’t play the trick anymore after that day, and the seller was happy., The salt dissolved in the water and hence the bag became very light to carry., Again it played the same trick hoping that the cotton bag would be still become lighter.\n",
       " , The donkey was happy.\n",
       " , But the dampened cotton became very heavy to carry and the donkey suffered., The salt seller came to understand the trick and decided to teach a lesson]"
      ]
     },
     "execution_count": 19,
     "metadata": {},
     "output_type": "execute_result"
    }
   ],
   "source": [
    "sum_sentences"
   ]
  },
  {
   "cell_type": "code",
   "execution_count": 20,
   "metadata": {},
   "outputs": [
    {
     "name": "stdout",
     "output_type": "stream",
     "text": [
      "A salt seller used to carry the salt bag on his donkey to the market every day.\n",
      "\n",
      "\n",
      "to it. The next day he loaded a cotton bag on the donkey.\n",
      "\n",
      "\n",
      "One day the donkey suddenly tumbled down the stream and the salt bag also fell into the water.\n",
      "Then the donkey started to play the same trick every day.\n",
      "\n",
      "\n",
      "It didn’t play the trick anymore after that day, and the seller was happy.\n",
      "The salt dissolved in the water and hence the bag became very light to carry.\n",
      "Again it played the same trick hoping that the cotton bag would be still become lighter.\n",
      "\n",
      "\n",
      "The donkey was happy.\n",
      "\n",
      "\n",
      "But the dampened cotton became very heavy to carry and the donkey suffered.\n",
      "The salt seller came to understand the trick and decided to teach a lesson\n"
     ]
    },
    {
     "data": {
      "text/plain": [
       "['A salt seller used to carry the salt bag on his donkey to the market every day.\\n\\n',\n",
       " 'to it. The next day he loaded a cotton bag on the donkey.\\n\\n',\n",
       " 'One day the donkey suddenly tumbled down the stream and the salt bag also fell into the water.',\n",
       " 'Then the donkey started to play the same trick every day.\\n\\n',\n",
       " 'It didn’t play the trick anymore after that day, and the seller was happy.',\n",
       " 'The salt dissolved in the water and hence the bag became very light to carry.',\n",
       " 'Again it played the same trick hoping that the cotton bag would be still become lighter.\\n\\n',\n",
       " 'The donkey was happy.\\n\\n',\n",
       " 'But the dampened cotton became very heavy to carry and the donkey suffered.',\n",
       " 'The salt seller came to understand the trick and decided to teach a lesson']"
      ]
     },
     "execution_count": 20,
     "metadata": {},
     "output_type": "execute_result"
    }
   ],
   "source": [
    "for w in sum_sentences:\n",
    "    print(w.text)\n",
    "    \n",
    "# List Comprehension of Sentences Converted From Spacy.span to strings\n",
    "final_sentences = [ w.text for w in sum_sentences ]    \n",
    "final_sentences    "
   ]
  },
  {
   "cell_type": "code",
   "execution_count": 21,
   "metadata": {},
   "outputs": [
    {
     "data": {
      "text/plain": [
       "'A salt seller used to carry the salt bag on his donkey to the market every day.\\n\\n to it. The next day he loaded a cotton bag on the donkey.\\n\\n One day the donkey suddenly tumbled down the stream and the salt bag also fell into the water. Then the donkey started to play the same trick every day.\\n\\n It didn’t play the trick anymore after that day, and the seller was happy. The salt dissolved in the water and hence the bag became very light to carry. Again it played the same trick hoping that the cotton bag would be still become lighter.\\n\\n The donkey was happy.\\n\\n But the dampened cotton became very heavy to carry and the donkey suffered. The salt seller came to understand the trick and decided to teach a lesson'"
      ]
     },
     "execution_count": 21,
     "metadata": {},
     "output_type": "execute_result"
    }
   ],
   "source": [
    "summary = ' '.join(final_sentences)\n",
    "summary"
   ]
  },
  {
   "cell_type": "code",
   "execution_count": 22,
   "metadata": {},
   "outputs": [
    {
     "data": {
      "text/plain": [
       "715"
      ]
     },
     "execution_count": 22,
     "metadata": {},
     "output_type": "execute_result"
    }
   ],
   "source": [
    "len(summary)"
   ]
  },
  {
   "cell_type": "code",
   "execution_count": 23,
   "metadata": {},
   "outputs": [
    {
     "data": {
      "text/plain": [
       "769"
      ]
     },
     "execution_count": 23,
     "metadata": {},
     "output_type": "execute_result"
    }
   ],
   "source": [
    "len(doc1)"
   ]
  },
  {
   "cell_type": "code",
   "execution_count": null,
   "metadata": {},
   "outputs": [],
   "source": []
  }
 ],
 "metadata": {
  "kernelspec": {
   "display_name": "Python 3",
   "language": "python",
   "name": "python3"
  },
  "language_info": {
   "codemirror_mode": {
    "name": "ipython",
    "version": 3
   },
   "file_extension": ".py",
   "mimetype": "text/x-python",
   "name": "python",
   "nbconvert_exporter": "python",
   "pygments_lexer": "ipython3",
   "version": "3.7.4"
  }
 },
 "nbformat": 4,
 "nbformat_minor": 2
}
